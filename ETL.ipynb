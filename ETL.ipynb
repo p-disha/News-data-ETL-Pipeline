{
 "cells": [
  {
   "cell_type": "markdown",
   "metadata": {},
   "source": [
    "## Build a News ETL Data Pipeline Using Python and SQLite"
   ]
  },
  {
   "cell_type": "markdown",
   "metadata": {},
   "source": [
    "### Task 1: Import Libraries and Connect to the News API"
   ]
  },
  {
   "cell_type": "code",
   "execution_count": 22,
   "metadata": {},
   "outputs": [],
   "source": [
    "import pandas as pd\n",
    "import sqlite3\n",
    "import logging\n",
    "from newsapi import NewsApiClient\n",
    "from datetime import datetime, timedelta, time\n",
    "from airflow import DAG\n"
   ]
  },
  {
   "cell_type": "code",
   "execution_count": 23,
   "metadata": {},
   "outputs": [],
   "source": [
    "news_api_key=\"8d9ffbb9befb4f70b3a012ff6e4e5cd6\"\n",
    "\n",
    "news_api=NewsApiClient(api_key=news_api_key)"
   ]
  },
  {
   "cell_type": "markdown",
   "metadata": {},
   "source": [
    "### Task 2: Retrieve and Print News Articles"
   ]
  },
  {
   "cell_type": "code",
   "execution_count": 24,
   "metadata": {},
   "outputs": [
    {
     "name": "stdout",
     "output_type": "stream",
     "text": [
      "[\u001b[34m2024-06-29T17:40:00.209+0000\u001b[0m] {\u001b[34m535191998.py:\u001b[0m4} INFO\u001b[0m - Connection is successful.\u001b[0m\n",
      "[{'source': {'id': None, 'name': 'SiliconANGLE News'}, 'author': 'Robert Hof', 'title': 'Generative AI’s big copyright battle commences, and chip upstarts target AI workloads', 'description': 'It’s perhaps the biggest signal yet that generative artificial intelligence model providers aren’t going to get a free content ride: Record labels this week\\xa0sued\\xa0two AI music generators, and this one may prove to be the big battle over AI and copyright. Meant…', 'url': 'https://siliconangle.com/2024/06/28/generative-ais-big-copyright-battle-commences-chip-upstarts-target-ai-workloads/', 'urlToImage': 'https://d15shllkswkct0.cloudfront.net/wp-content/blogs.dir/1/files/2024/06/aimusicbattle-ideogram.png', 'publishedAt': '2024-06-28T17:37:31Z', 'content': 'It’s perhaps the biggest signal yet that generative artificial intelligence model providers aren’t going to get a free content ride: Record labels this week\\xa0sued\\xa0two AI music generators, and this one… [+9572 chars]'}, {'source': {'id': None, 'name': 'Unity.com'}, 'author': None, 'title': '185 Realistic Animated NPC Portraits Pack by Asset Frambuesa', 'description': '185 unique NPC portraits in a realistic animated style, featuring 104 female and 81 male characters. Perfect for modern action or survival games.Technical Specifications: 500x500 pixels, transparent background, PNG formatKey Features<ul><li>High-Quality Portr…', 'url': 'https://assetstore.unity.com/packages/2d/characters/185-realistic-animated-npc-portraits-pack-287909', 'urlToImage': 'https://assetstorev1-prd-cdn.unity3d.com/key-image/bda27db5-f34c-4d64-8966-df2206ef9c44.png?v=1', 'publishedAt': '2024-06-28T17:37:13Z', 'content': 'Over 11,000 five-star assets\\r\\nRated by 85,000+ customers\\r\\nSupported by 100,000+ forum members\\r\\nEvery asset moderated by Unity'}, {'source': {'id': 'hacker-news', 'name': 'Hacker News'}, 'author': 'patrulo', 'title': 'Show HN: InlineGPT – prompt without leaving your app', 'description': 'the problem: constantly switching apps to use AI was killing my flow.\\nthe solution: inlineGPT - the everywhere AI-copilot, trigged via one global shortcut.how it works:– write and select text in any app– hit ⌘ + Shift + 1– AI output gets instantly pasted inwo…', 'url': 'https://news.ycombinator.com/item?id=40822944', 'urlToImage': None, 'publishedAt': '2024-06-28T17:37:03Z', 'content': 'the problem: constantly switching apps to use AI was killing my flow.\\r\\nthe solution: inlineGPT - the everywhere AI-copilot, trigged via one global shortcut.how it works:\\r\\n write and select text in an… [+615 chars]'}]\n"
     ]
    }
   ],
   "source": [
    "def extract_news_data():\n",
    "    try:\n",
    "        result = news_api.get_everything(q=\"AI\", language=\"en\",sort_by='publishedAt')\n",
    "        logging.info(\"Connection is successful.\")\n",
    "        return result[\"articles\"]\n",
    "    except:\n",
    "        logging.error(\"Connection is unsuccessful.\")\n",
    "        return None\n",
    "\n",
    "articles = extract_news_data()\n",
    "\n",
    "print(articles[:3])"
   ]
  },
  {
   "cell_type": "markdown",
   "metadata": {},
   "source": [
    "### Task 3: Clean Author Column"
   ]
  },
  {
   "cell_type": "code",
   "execution_count": 25,
   "metadata": {},
   "outputs": [],
   "source": [
    "def clean_author_column(text):\n",
    "    try:\n",
    "        return text.split(\",\")[0].title()\n",
    "    except AttributeError:\n",
    "        return \"No Author\""
   ]
  },
  {
   "cell_type": "markdown",
   "metadata": {},
   "source": [
    "### Task 4: Transform News Data"
   ]
  },
  {
   "cell_type": "code",
   "execution_count": 26,
   "metadata": {},
   "outputs": [
    {
     "name": "stdout",
     "output_type": "stream",
     "text": [
      "                 Source                            Author Name  \\\n",
      "0     SiliconANGLE News                             Robert Hof   \n",
      "1             Unity.com                              No Author   \n",
      "2           Hacker News                                Patrulo   \n",
      "3             The Verge                             Jay Peters   \n",
      "4                 Wired                           Tim Marchman   \n",
      "..                  ...                                    ...   \n",
      "95           Github.com                               Ozgrozer   \n",
      "96                 Time                         Andrew R. Chow   \n",
      "97        GlobeNewswire                              Aiconnect   \n",
      "98    The Week Magazine  Theweek@Futurenet.Com (Justin Klawans   \n",
      "99  The Washington Post                            Shira Ovide   \n",
      "\n",
      "                                           News Title  \\\n",
      "0   Generative AI’s big copyright battle commences...   \n",
      "1   185 Realistic Animated NPC Portraits Pack by A...   \n",
      "2   Show HN: InlineGPT – prompt without leaving yo...   \n",
      "3   The Center for Investigative Reporting is suin...   \n",
      "4   Quora’s Chatbot Platform Poe Allows Users to D...   \n",
      "..                                                ...   \n",
      "95                     Show HN: Artifacts for ChatGPT   \n",
      "96  Why So Many Bitcoin Mining Companies Are Pivot...   \n",
      "97  AIConnect Foundation Announces $10 Million Eco...   \n",
      "98           'There is serious business to attend to'   \n",
      "99  Is that app safe? Here are 3 quick ways to check.   \n",
      "\n",
      "                                                  URL       Date Published  \\\n",
      "0   https://siliconangle.com/2024/06/28/generative...  2024-06-28 17:37:31   \n",
      "1   https://assetstore.unity.com/packages/2d/chara...  2024-06-28 17:37:13   \n",
      "2       https://news.ycombinator.com/item?id=40822944  2024-06-28 17:37:03   \n",
      "3   https://www.theverge.com/2024/6/28/24188239/op...  2024-06-28 17:34:11   \n",
      "4   https://www.wired.com/story/quora-chatbot-poe-...  2024-06-28 17:32:19   \n",
      "..                                                ...                  ...   \n",
      "95      https://github.com/ozgrozer/chatgpt-artifacts  2024-06-28 16:42:27   \n",
      "96  https://time.com/6993603/ai-bitcoin-mining-art...  2024-06-28 16:40:48   \n",
      "97  https://www.globenewswire.com/news-release/202...  2024-06-28 16:38:00   \n",
      "98  https://theweek.com/politics/nato-ukraine-bide...  2024-06-28 16:35:07   \n",
      "99  https://www.washingtonpost.com/technology/2024...  2024-06-28 16:35:01   \n",
      "\n",
      "                                              Content  \n",
      "0   It’s perhaps the biggest signal yet that gener...  \n",
      "1   Over 11,000 five-star assets\\r\\nRated by 85,00...  \n",
      "2   the problem: constantly switching apps to use ...  \n",
      "3   The Center for Investigative Reporting is suin...  \n",
      "4   Poe, an AI chatbot platform owned by the quest...  \n",
      "..                                                ...  \n",
      "95  Bring Claude's Artifacts feature to ChatGPT\\r\\...  \n",
      "96  As AI companies work furiously to improve the ...  \n",
      "97  Singapore, June 28, 2024 (GLOBE NEWSWIRE) -- R...  \n",
      "98  'What to expect from the upcoming NATO summit'...  \n",
      "99  Downloading an unfamiliar app is like inviting...  \n",
      "\n",
      "[100 rows x 6 columns]\n"
     ]
    }
   ],
   "source": [
    "def transform_news_data(articles):\n",
    "    article_list = []\n",
    "    for i in articles:\n",
    "        article_list.append([value.get(\"name\", 0) if key == \"source\" else value for key, value in i.items() if key in [\"author\", \"title\", \"publishedAt\", \"content\", \"url\", \"source\"]])\n",
    "\n",
    "    df = pd.DataFrame(article_list, columns=[\"Source\", \"Author Name\", \"News Title\", \"URL\", \"Date Published\", \"Content\"])\n",
    "\n",
    "    df[\"Date Published\"] = pd.to_datetime(df[\"Date Published\"]).dt.strftime('%Y-%m-%d %H:%M:%S')\n",
    "    df[\"Author Name\"] = df[\"Author Name\"].apply(clean_author_column)\n",
    " \n",
    "    return df\n",
    "\n",
    "transformed_data = transform_news_data(articles)\n",
    "\n",
    "print(transformed_data)"
   ]
  },
  {
   "cell_type": "markdown",
   "metadata": {},
   "source": [
    "### Task 5: Load the Data into SQLite Database\n"
   ]
  },
  {
   "cell_type": "code",
   "execution_count": 27,
   "metadata": {},
   "outputs": [],
   "source": [
    "def load_news_data(data):\n",
    "    with sqlite3.connect(\"/usercode/news_data.sqlite\") as connection:\n",
    "        cursor = connection.cursor()\n",
    "        cursor.execute('''\n",
    "            CREATE TABLE IF NOT EXISTS news_table (\n",
    "                \"Source\" VARCHAR(30),\n",
    "                \"Author Name\" TEXT,\n",
    "                \"News Title\" TEXT,\n",
    "                \"URL\" TEXT,\n",
    "                \"Date Published\" TEXT,\n",
    "                \"Content\" TEXT\n",
    "            )\n",
    "        ''')\n",
    "    data.to_sql(name=\"news_table\", con=connection, index=False, if_exists=\"append\")\n",
    " \n",
    "load_news_data(transformed_data)"
   ]
  },
  {
   "cell_type": "markdown",
   "metadata": {},
   "source": [
    "### Task 8: Verify Data Loading"
   ]
  },
  {
   "cell_type": "code",
   "execution_count": 28,
   "metadata": {},
   "outputs": [
    {
     "data": {
      "text/html": [
       "<pre style=\"white-space:pre;overflow-x:auto;line-height:normal;font-family:Menlo,'DejaVu Sans Mono',consolas,'Courier New',monospace\"><span style=\"color: #808000; text-decoration-color: #808000; font-weight: bold\">/tmp/ipykernel_363/2446328449.py:</span><span style=\"color: #808000; text-decoration-color: #808000; font-weight: bold\">3</span><span style=\"color: #808000; text-decoration-color: #808000; font-weight: bold\"> RemovedInAirflow3Warning</span><span style=\"color: #808000; text-decoration-color: #808000\">: Param `schedule_interval` is deprecated and will be removed in a future release. Please use `schedule` instead.</span>\n",
       "</pre>\n"
      ],
      "text/plain": [
       "\u001b[1;33m/tmp/ipykernel_363/\u001b[0m\u001b[1;33m2446328449.py\u001b[0m\u001b[1;33m:\u001b[0m\u001b[1;33m3\u001b[0m\u001b[1;33m RemovedInAirflow3Warning\u001b[0m\u001b[33m: Param `schedule_interval` is deprecated and will be removed in a future release. Please use `schedule` instead.\u001b[0m\n"
      ]
     },
     "metadata": {},
     "output_type": "display_data"
    }
   ],
   "source": [
    "\n",
    "to_date=datetime.utcnow().date()\n",
    "from_date=to_date-timedelta(days=1)\n",
    "dag=DAG(dag_id=\"news_etl\", default_args={'start_date': datetime.combine(from_date, time(0,0)), 'retries':1},\n",
    "schedule_interval='@daily',)\n",
    "\n",
    "\n"
   ]
  },
  {
   "cell_type": "code",
   "execution_count": 29,
   "metadata": {},
   "outputs": [
    {
     "data": {
      "text/html": [
       "<div>\n",
       "<style scoped>\n",
       "    .dataframe tbody tr th:only-of-type {\n",
       "        vertical-align: middle;\n",
       "    }\n",
       "\n",
       "    .dataframe tbody tr th {\n",
       "        vertical-align: top;\n",
       "    }\n",
       "\n",
       "    .dataframe thead th {\n",
       "        text-align: right;\n",
       "    }\n",
       "</style>\n",
       "<table border=\"1\" class=\"dataframe\">\n",
       "  <thead>\n",
       "    <tr style=\"text-align: right;\">\n",
       "      <th></th>\n",
       "      <th>Source</th>\n",
       "      <th>Author Name</th>\n",
       "      <th>News Title</th>\n",
       "      <th>URL</th>\n",
       "      <th>Date Published</th>\n",
       "      <th>Content</th>\n",
       "    </tr>\n",
       "  </thead>\n",
       "  <tbody>\n",
       "    <tr>\n",
       "      <th>0</th>\n",
       "      <td>Yahoo Entertainment</td>\n",
       "      <td>Mariella Moon</td>\n",
       "      <td>Amazon investigating Perplexity AI after accus...</td>\n",
       "      <td>https://consent.yahoo.com/v2/collectConsent?se...</td>\n",
       "      <td>2024-06-28 13:30:03</td>\n",
       "      <td>If you click 'Accept all', we and our partners...</td>\n",
       "    </tr>\n",
       "    <tr>\n",
       "      <th>1</th>\n",
       "      <td>CNET</td>\n",
       "      <td>Katelyn Chedraoui</td>\n",
       "      <td>Best AI Image Generators of 2024</td>\n",
       "      <td>https://www.cnet.com/tech/services-and-softwar...</td>\n",
       "      <td>2024-06-28 12:31:00</td>\n",
       "      <td>As artificial intelligence technology advances...</td>\n",
       "    </tr>\n",
       "    <tr>\n",
       "      <th>2</th>\n",
       "      <td>CNET</td>\n",
       "      <td>Gael Cooper</td>\n",
       "      <td>Toys 'R' Us Kids Meet AI in a Video Using Sora...</td>\n",
       "      <td>https://www.cnet.com/tech/services-and-softwar...</td>\n",
       "      <td>2024-06-28 03:40:00</td>\n",
       "      <td>Toys \"R\" Us released a video made with a new a...</td>\n",
       "    </tr>\n",
       "    <tr>\n",
       "      <th>3</th>\n",
       "      <td>The Next Web</td>\n",
       "      <td>The Conversation</td>\n",
       "      <td>Does your service business need AI? Here are 4...</td>\n",
       "      <td>https://thenextweb.com/news/does-your-service-...</td>\n",
       "      <td>2024-06-28 08:30:19</td>\n",
       "      <td>Artificial intelligence is the big thing right...</td>\n",
       "    </tr>\n",
       "    <tr>\n",
       "      <th>4</th>\n",
       "      <td>ReadWrite</td>\n",
       "      <td>Graeme Hanna</td>\n",
       "      <td>YouTube wants record labels to license music f...</td>\n",
       "      <td>https://readwrite.com/youtube-wants-record-lab...</td>\n",
       "      <td>2024-06-28 15:27:05</td>\n",
       "      <td>YouTube is reportedly locked in talks with maj...</td>\n",
       "    </tr>\n",
       "  </tbody>\n",
       "</table>\n",
       "</div>"
      ],
      "text/plain": [
       "                Source        Author Name  \\\n",
       "0  Yahoo Entertainment      Mariella Moon   \n",
       "1                 CNET  Katelyn Chedraoui   \n",
       "2                 CNET        Gael Cooper   \n",
       "3         The Next Web   The Conversation   \n",
       "4            ReadWrite       Graeme Hanna   \n",
       "\n",
       "                                          News Title  \\\n",
       "0  Amazon investigating Perplexity AI after accus...   \n",
       "1                   Best AI Image Generators of 2024   \n",
       "2  Toys 'R' Us Kids Meet AI in a Video Using Sora...   \n",
       "3  Does your service business need AI? Here are 4...   \n",
       "4  YouTube wants record labels to license music f...   \n",
       "\n",
       "                                                 URL       Date Published  \\\n",
       "0  https://consent.yahoo.com/v2/collectConsent?se...  2024-06-28 13:30:03   \n",
       "1  https://www.cnet.com/tech/services-and-softwar...  2024-06-28 12:31:00   \n",
       "2  https://www.cnet.com/tech/services-and-softwar...  2024-06-28 03:40:00   \n",
       "3  https://thenextweb.com/news/does-your-service-...  2024-06-28 08:30:19   \n",
       "4  https://readwrite.com/youtube-wants-record-lab...  2024-06-28 15:27:05   \n",
       "\n",
       "                                             Content  \n",
       "0  If you click 'Accept all', we and our partners...  \n",
       "1  As artificial intelligence technology advances...  \n",
       "2  Toys \"R\" Us released a video made with a new a...  \n",
       "3  Artificial intelligence is the big thing right...  \n",
       "4  YouTube is reportedly locked in talks with maj...  "
      ]
     },
     "execution_count": 29,
     "metadata": {},
     "output_type": "execute_result"
    }
   ],
   "source": [
    "with sqlite3.connect(\"/usercode/etl_news_data.sqlite\") as connection:\n",
    "    df = pd.read_sql(\"SELECT * FROM news_table;\", connection)\n",
    "df.head()"
   ]
  }
 ],
 "metadata": {
  "kernelspec": {
   "display_name": "Python 3",
   "language": "python",
   "name": "python3"
  },
  "language_info": {
   "codemirror_mode": {
    "name": "ipython",
    "version": 3
   },
   "file_extension": ".py",
   "mimetype": "text/x-python",
   "name": "python",
   "nbconvert_exporter": "python",
   "pygments_lexer": "ipython3",
   "version": "3.8.10"
  },
  "orig_nbformat": 4,
  "vscode": {
   "interpreter": {
    "hash": "916dbcbb3f70747c44a77c7bcd40155683ae19c65e1c03b4aa3499c5328201f1"
   }
  }
 },
 "nbformat": 4,
 "nbformat_minor": 2
}
